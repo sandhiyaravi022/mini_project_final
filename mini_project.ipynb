{
 "cells": [
  {
   "cell_type": "code",
   "execution_count": null,
   "metadata": {},
   "outputs": [
    {
     "ename": "FileNotFoundError",
     "evalue": "'yolo9n.yaml' does not exist",
     "output_type": "error",
     "traceback": [
      "\u001b[31m---------------------------------------------------------------------------\u001b[39m",
      "\u001b[31mFileNotFoundError\u001b[39m                         Traceback (most recent call last)",
      "\u001b[36mCell\u001b[39m\u001b[36m \u001b[39m\u001b[32mIn[2]\u001b[39m\u001b[32m, line 10\u001b[39m\n\u001b[32m      7\u001b[39m settings.save()\n\u001b[32m      9\u001b[39m \u001b[38;5;66;03m# Create a new YOLO model from scratch\u001b[39;00m\n\u001b[32m---> \u001b[39m\u001b[32m10\u001b[39m model = \u001b[43mYOLO\u001b[49m\u001b[43m(\u001b[49m\u001b[33;43m\"\u001b[39;49m\u001b[33;43myolo9n.yaml\u001b[39;49m\u001b[33;43m\"\u001b[39;49m\u001b[43m)\u001b[49m\n\u001b[32m     12\u001b[39m \u001b[38;5;66;03m# Load a pretrained YOLO model (recommended for training)\u001b[39;00m\n\u001b[32m     13\u001b[39m model = YOLO(\u001b[33m\"\u001b[39m\u001b[33myolo9n.pt\u001b[39m\u001b[33m\"\u001b[39m)\n",
      "\u001b[36mFile \u001b[39m\u001b[32mc:\\Users\\sandh\\OneDrive\\Documents\\mini project\\miniproject\\Lib\\site-packages\\ultralytics\\engine\\model.py:92\u001b[39m, in \u001b[36mModel.__init__\u001b[39m\u001b[34m(self, model, task)\u001b[39m\n\u001b[32m     90\u001b[39m model = checks.check_model_file_from_stem(model)  \u001b[38;5;66;03m# add suffix, i.e. yolov8n -> yolov8n.pt\u001b[39;00m\n\u001b[32m     91\u001b[39m \u001b[38;5;28;01mif\u001b[39;00m Path(model).suffix \u001b[38;5;129;01min\u001b[39;00m (\u001b[33m'\u001b[39m\u001b[33m.yaml\u001b[39m\u001b[33m'\u001b[39m, \u001b[33m'\u001b[39m\u001b[33m.yml\u001b[39m\u001b[33m'\u001b[39m):\n\u001b[32m---> \u001b[39m\u001b[32m92\u001b[39m     \u001b[38;5;28;43mself\u001b[39;49m\u001b[43m.\u001b[49m\u001b[43m_new\u001b[49m\u001b[43m(\u001b[49m\u001b[43mmodel\u001b[49m\u001b[43m,\u001b[49m\u001b[43m \u001b[49m\u001b[43mtask\u001b[49m\u001b[43m)\u001b[49m\n\u001b[32m     93\u001b[39m \u001b[38;5;28;01melse\u001b[39;00m:\n\u001b[32m     94\u001b[39m     \u001b[38;5;28mself\u001b[39m._load(model, task)\n",
      "\u001b[36mFile \u001b[39m\u001b[32mc:\\Users\\sandh\\OneDrive\\Documents\\mini project\\miniproject\\Lib\\site-packages\\ultralytics\\engine\\model.py:125\u001b[39m, in \u001b[36mModel._new\u001b[39m\u001b[34m(self, cfg, task, model, verbose)\u001b[39m\n\u001b[32m    115\u001b[39m \u001b[38;5;28;01mdef\u001b[39;00m\u001b[38;5;250m \u001b[39m\u001b[34m_new\u001b[39m(\u001b[38;5;28mself\u001b[39m, cfg: \u001b[38;5;28mstr\u001b[39m, task=\u001b[38;5;28;01mNone\u001b[39;00m, model=\u001b[38;5;28;01mNone\u001b[39;00m, verbose=\u001b[38;5;28;01mTrue\u001b[39;00m):\n\u001b[32m    116\u001b[39m \u001b[38;5;250m    \u001b[39m\u001b[33;03m\"\"\"\u001b[39;00m\n\u001b[32m    117\u001b[39m \u001b[33;03m    Initializes a new model and infers the task type from the model definitions.\u001b[39;00m\n\u001b[32m    118\u001b[39m \n\u001b[32m   (...)\u001b[39m\u001b[32m    123\u001b[39m \u001b[33;03m        verbose (bool): display model info on load\u001b[39;00m\n\u001b[32m    124\u001b[39m \u001b[33;03m    \"\"\"\u001b[39;00m\n\u001b[32m--> \u001b[39m\u001b[32m125\u001b[39m     cfg_dict = \u001b[43myaml_model_load\u001b[49m\u001b[43m(\u001b[49m\u001b[43mcfg\u001b[49m\u001b[43m)\u001b[49m\n\u001b[32m    126\u001b[39m     \u001b[38;5;28mself\u001b[39m.cfg = cfg\n\u001b[32m    127\u001b[39m     \u001b[38;5;28mself\u001b[39m.task = task \u001b[38;5;129;01mor\u001b[39;00m guess_model_task(cfg_dict)\n",
      "\u001b[36mFile \u001b[39m\u001b[32mc:\\Users\\sandh\\OneDrive\\Documents\\mini project\\miniproject\\Lib\\site-packages\\ultralytics\\nn\\tasks.py:742\u001b[39m, in \u001b[36myaml_model_load\u001b[39m\u001b[34m(path)\u001b[39m\n\u001b[32m    739\u001b[39m     path = path.with_name(new_stem + path.suffix)\n\u001b[32m    741\u001b[39m unified_path = re.sub(\u001b[33mr\u001b[39m\u001b[33m'\u001b[39m\u001b[33m(\u001b[39m\u001b[33m\\\u001b[39m\u001b[33md+)([nslmx])(.+)?$\u001b[39m\u001b[33m'\u001b[39m, \u001b[33mr\u001b[39m\u001b[33m'\u001b[39m\u001b[33m\\\u001b[39m\u001b[33m1\u001b[39m\u001b[33m\\\u001b[39m\u001b[33m3\u001b[39m\u001b[33m'\u001b[39m, \u001b[38;5;28mstr\u001b[39m(path))  \u001b[38;5;66;03m# i.e. yolov8x.yaml -> yolov8.yaml\u001b[39;00m\n\u001b[32m--> \u001b[39m\u001b[32m742\u001b[39m yaml_file = check_yaml(unified_path, hard=\u001b[38;5;28;01mFalse\u001b[39;00m) \u001b[38;5;129;01mor\u001b[39;00m \u001b[43mcheck_yaml\u001b[49m\u001b[43m(\u001b[49m\u001b[43mpath\u001b[49m\u001b[43m)\u001b[49m\n\u001b[32m    743\u001b[39m d = yaml_load(yaml_file)  \u001b[38;5;66;03m# model dict\u001b[39;00m\n\u001b[32m    744\u001b[39m d[\u001b[33m'\u001b[39m\u001b[33mscale\u001b[39m\u001b[33m'\u001b[39m] = guess_model_scale(path)\n",
      "\u001b[36mFile \u001b[39m\u001b[32mc:\\Users\\sandh\\OneDrive\\Documents\\mini project\\miniproject\\Lib\\site-packages\\ultralytics\\utils\\checks.py:463\u001b[39m, in \u001b[36mcheck_yaml\u001b[39m\u001b[34m(file, suffix, hard)\u001b[39m\n\u001b[32m    461\u001b[39m \u001b[38;5;28;01mdef\u001b[39;00m\u001b[38;5;250m \u001b[39m\u001b[34mcheck_yaml\u001b[39m(file, suffix=(\u001b[33m'\u001b[39m\u001b[33m.yaml\u001b[39m\u001b[33m'\u001b[39m, \u001b[33m'\u001b[39m\u001b[33m.yml\u001b[39m\u001b[33m'\u001b[39m), hard=\u001b[38;5;28;01mTrue\u001b[39;00m):\n\u001b[32m    462\u001b[39m \u001b[38;5;250m    \u001b[39m\u001b[33;03m\"\"\"Search/download YAML file (if necessary) and return path, checking suffix.\"\"\"\u001b[39;00m\n\u001b[32m--> \u001b[39m\u001b[32m463\u001b[39m     \u001b[38;5;28;01mreturn\u001b[39;00m \u001b[43mcheck_file\u001b[49m\u001b[43m(\u001b[49m\u001b[43mfile\u001b[49m\u001b[43m,\u001b[49m\u001b[43m \u001b[49m\u001b[43msuffix\u001b[49m\u001b[43m,\u001b[49m\u001b[43m \u001b[49m\u001b[43mhard\u001b[49m\u001b[43m=\u001b[49m\u001b[43mhard\u001b[49m\u001b[43m)\u001b[49m\n",
      "\u001b[36mFile \u001b[39m\u001b[32mc:\\Users\\sandh\\OneDrive\\Documents\\mini project\\miniproject\\Lib\\site-packages\\ultralytics\\utils\\checks.py:455\u001b[39m, in \u001b[36mcheck_file\u001b[39m\u001b[34m(file, suffix, download, hard)\u001b[39m\n\u001b[32m    453\u001b[39m files = glob.glob(\u001b[38;5;28mstr\u001b[39m(ROOT / \u001b[33m'\u001b[39m\u001b[33mcfg\u001b[39m\u001b[33m'\u001b[39m / \u001b[33m'\u001b[39m\u001b[33m**\u001b[39m\u001b[33m'\u001b[39m / file), recursive=\u001b[38;5;28;01mTrue\u001b[39;00m)  \u001b[38;5;66;03m# find file\u001b[39;00m\n\u001b[32m    454\u001b[39m \u001b[38;5;28;01mif\u001b[39;00m \u001b[38;5;129;01mnot\u001b[39;00m files \u001b[38;5;129;01mand\u001b[39;00m hard:\n\u001b[32m--> \u001b[39m\u001b[32m455\u001b[39m     \u001b[38;5;28;01mraise\u001b[39;00m \u001b[38;5;167;01mFileNotFoundError\u001b[39;00m(\u001b[33mf\u001b[39m\u001b[33m\"\u001b[39m\u001b[33m'\u001b[39m\u001b[38;5;132;01m{\u001b[39;00mfile\u001b[38;5;132;01m}\u001b[39;00m\u001b[33m'\u001b[39m\u001b[33m does not exist\u001b[39m\u001b[33m\"\u001b[39m)\n\u001b[32m    456\u001b[39m \u001b[38;5;28;01melif\u001b[39;00m \u001b[38;5;28mlen\u001b[39m(files) > \u001b[32m1\u001b[39m \u001b[38;5;129;01mand\u001b[39;00m hard:\n\u001b[32m    457\u001b[39m     \u001b[38;5;28;01mraise\u001b[39;00m \u001b[38;5;167;01mFileNotFoundError\u001b[39;00m(\u001b[33mf\u001b[39m\u001b[33m\"\u001b[39m\u001b[33mMultiple files match \u001b[39m\u001b[33m'\u001b[39m\u001b[38;5;132;01m{\u001b[39;00mfile\u001b[38;5;132;01m}\u001b[39;00m\u001b[33m'\u001b[39m\u001b[33m, specify exact path: \u001b[39m\u001b[38;5;132;01m{\u001b[39;00mfiles\u001b[38;5;132;01m}\u001b[39;00m\u001b[33m\"\u001b[39m)\n",
      "\u001b[31mFileNotFoundError\u001b[39m: 'yolo9n.yaml' does not exist"
     ]
    }
   ],
   "source": [
    "from ultralytics import YOLO, settings\n",
    "import cv2\n",
    "\n",
    "settings.update(datasets_dir=\"datasets\")\n",
    "settings.update(weights_dir=\"datasets/weights_dir\")\n",
    "settings.update(runs_dir=\"datasets/runs_dir\")\n",
    "settings.save()\n",
    "\n",
    "# # Create a new YOLO model from scratch\n",
    "# model = YOLO(\"yolo9n.yaml\")\n",
    "\n",
    "# Load a pretrained YOLO model (recommended for training)\n",
    "model = YOLO(\"yolov8x.pt\")\n",
    "\n",
    "# Train the model using the 'coco8.yaml' dataset for 3 epochs\n",
    "results = model.train(data=\"mini_project.yaml\", epochs=3)\n",
    "\n",
    "# Evaluate the model's performance on the validation set\n",
    "results = model.val()"
   ]
  },
  {
   "cell_type": "code",
   "execution_count": null,
   "metadata": {},
   "outputs": [],
   "source": []
  }
 ],
 "metadata": {
  "kernelspec": {
   "display_name": "miniproject",
   "language": "python",
   "name": "python3"
  },
  "language_info": {
   "codemirror_mode": {
    "name": "ipython",
    "version": 3
   },
   "file_extension": ".py",
   "mimetype": "text/x-python",
   "name": "python",
   "nbconvert_exporter": "python",
   "pygments_lexer": "ipython3",
   "version": "3.11.9"
  }
 },
 "nbformat": 4,
 "nbformat_minor": 2
}
